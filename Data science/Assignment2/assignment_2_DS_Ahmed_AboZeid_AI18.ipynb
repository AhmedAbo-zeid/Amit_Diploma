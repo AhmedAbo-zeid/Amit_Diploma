{
  "cells": [
    {
      "cell_type": "markdown",
      "metadata": {
        "id": "RiPBzY6iBzGQ"
      },
      "source": [
        "## Write a Numpy program to compute the multiplication of two given matrixes"
      ]
    },
    {
      "cell_type": "code",
      "execution_count": 14,
      "metadata": {
        "id": "gKGmfzO_BzGZ"
      },
      "outputs": [],
      "source": [
        "import numpy as np\n",
        "def mat_mul(mat1,mat2):\n",
        "  assert (mat1.shape[1]==mat2.shape[0]) , \"Error : Matrices can't be multiplied by each other\"\n",
        "  result = mat1.dot(mat2)\n",
        "  return result"
      ]
    },
    {
      "cell_type": "code",
      "execution_count": 16,
      "metadata": {
        "colab": {
          "base_uri": "https://localhost:8080/"
        },
        "id": "jtNCjPvGBzGa",
        "outputId": "cbb5ce50-d571-4aec-94db-82bb4b0c50a9"
      },
      "outputs": [
        {
          "output_type": "stream",
          "name": "stdout",
          "text": [
            "[[ 9 12]\n",
            " [24 33]]\n"
          ]
        }
      ],
      "source": [
        "matA = np.array([[1,2],\n",
        "                [4,5]])\n",
        "matB = np.array([[1,2],\n",
        "                [4,5]])\n",
        "print(mat_mul(matA,matB))"
      ]
    },
    {
      "cell_type": "markdown",
      "metadata": {
        "id": "zJI1sd8mBzGa"
      },
      "source": [
        "## Write a NumPy program to compute the determinant of a given square array"
      ]
    },
    {
      "cell_type": "code",
      "execution_count": 17,
      "metadata": {
        "id": "OQNLBVMsBzGb"
      },
      "outputs": [],
      "source": [
        "import numpy as np\n",
        "def det(mat):\n",
        "  assert (mat.shape[1]==mat.shape[0]) , \"Error : Matrix must be of type square\"\n",
        "  result = np.linalg.det(mat)\n",
        "  return result"
      ]
    },
    {
      "cell_type": "code",
      "execution_count": 26,
      "metadata": {
        "colab": {
          "base_uri": "https://localhost:8080/"
        },
        "id": "kNnQiuwbBzGb",
        "outputId": "a7bf99e7-68de-4297-cba8-c0897634067c"
      },
      "outputs": [
        {
          "output_type": "execute_result",
          "data": {
            "text/plain": [
              "-266.0"
            ]
          },
          "metadata": {},
          "execution_count": 26
        }
      ],
      "source": [
        "matA = np.array([[1,6,3],\n",
        "                 [8,5,6],\n",
        "                 [3,8,11]])\n",
        "det(matA)"
      ]
    },
    {
      "cell_type": "markdown",
      "metadata": {
        "id": "UQuj_WHjBzGc"
      },
      "source": [
        "## Write a NumPy program to compute the cross product of two given vectors"
      ]
    },
    {
      "cell_type": "code",
      "execution_count": 34,
      "metadata": {
        "id": "V5s-9H95BzGd"
      },
      "outputs": [],
      "source": [
        "import numpy as np\n",
        "def cross_prod(vec1,vec2):\n",
        "  assert (len(vec1)==len(vec2)), \"Error : Vectors must be of the same length\"\n",
        "  result = np.cross(vec1,vec2)\n",
        "  return result\n"
      ]
    },
    {
      "cell_type": "code",
      "execution_count": 36,
      "metadata": {
        "colab": {
          "base_uri": "https://localhost:8080/"
        },
        "id": "2mldhpn_BzGe",
        "outputId": "44a839fb-42a4-4295-bc58-4a9539c0ba3c"
      },
      "outputs": [
        {
          "output_type": "stream",
          "name": "stdout",
          "text": [
            "4\n"
          ]
        }
      ],
      "source": [
        "vecA = [5,6]\n",
        "vecB = [1,2]\n",
        "print(cross_prod(vecA,vecB))"
      ]
    },
    {
      "cell_type": "markdown",
      "metadata": {
        "id": "YSEYZd2wBzGe"
      },
      "source": [
        "## Write a NumPy program to compute the condition number of a given matrix"
      ]
    },
    {
      "cell_type": "code",
      "execution_count": 37,
      "metadata": {
        "id": "tP9nuMrnBzGf"
      },
      "outputs": [],
      "source": [
        "import numpy as np\n",
        "def cond_num(mat):\n",
        "  result = np.linalg.cond(mat)\n",
        "  return result\n",
        "  "
      ]
    },
    {
      "cell_type": "code",
      "execution_count": 41,
      "metadata": {
        "colab": {
          "base_uri": "https://localhost:8080/"
        },
        "id": "c17BwXYvBzGf",
        "outputId": "231c9e3e-43d1-45a2-cba1-e5da1d955670"
      },
      "outputs": [
        {
          "output_type": "stream",
          "name": "stdout",
          "text": [
            "3.813147060626918e+16\n"
          ]
        }
      ],
      "source": [
        "matA = np.array([[1, 2, 3],\n",
        "                 [4, 5, 6],\n",
        "                 [7, 8, 9]])\n",
        "print(cond_num(matA))"
      ]
    },
    {
      "cell_type": "markdown",
      "metadata": {
        "id": "Ae5Cp57TBzGg"
      },
      "source": [
        "## Write a NumPy program to compute the inverse of a given matrix"
      ]
    },
    {
      "cell_type": "code",
      "execution_count": 42,
      "metadata": {
        "id": "_2eXwmBTBzGh"
      },
      "outputs": [],
      "source": [
        "import numpy as np\n",
        "def inv_mat(mat):\n",
        "  assert (mat.shape[0]==mat.shape[1]) , \"Error : matrix must be of type square\"\n",
        "  assert (np.linalg.det(mat)!=0) , \"Error : determinant of matrix must not equal zero\"\n",
        "  result = np.linalg.inv(mat)\n",
        "  return result\n"
      ]
    },
    {
      "cell_type": "code",
      "execution_count": 47,
      "metadata": {
        "colab": {
          "base_uri": "https://localhost:8080/"
        },
        "id": "WhNknVhABzGh",
        "outputId": "ef6cd470-a950-4b71-cd52-35362a37aebb"
      },
      "outputs": [
        {
          "output_type": "stream",
          "name": "stdout",
          "text": [
            "[[-2.   1. ]\n",
            " [ 1.5 -0.5]]\n"
          ]
        }
      ],
      "source": [
        "matA = np.array([[1,2],\n",
        "                [3,4]])\n",
        "print(inv_mat(matA))"
      ]
    },
    {
      "cell_type": "code",
      "execution_count": null,
      "metadata": {
        "id": "c1qN65bCBzGh"
      },
      "outputs": [],
      "source": [
        ""
      ]
    }
  ],
  "metadata": {
    "kernelspec": {
      "display_name": "Python 3",
      "language": "python",
      "name": "python3"
    },
    "language_info": {
      "codemirror_mode": {
        "name": "ipython",
        "version": 3
      },
      "file_extension": ".py",
      "mimetype": "text/x-python",
      "name": "python",
      "nbconvert_exporter": "python",
      "pygments_lexer": "ipython3",
      "version": "3.7.3"
    },
    "colab": {
      "name": "assignment 2 DS_Ahmed_AboZeid_AI18.ipynb",
      "provenance": []
    }
  },
  "nbformat": 4,
  "nbformat_minor": 0
}