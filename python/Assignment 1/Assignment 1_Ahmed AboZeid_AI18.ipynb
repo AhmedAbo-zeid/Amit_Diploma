{
 "cells": [
  {
   "cell_type": "markdown",
   "metadata": {},
   "source": [
    "# Assignment 1"
   ]
  },
  {
   "cell_type": "markdown",
   "metadata": {
    "collapsed": true
   },
   "source": [
    "## Test your knowledge. \n",
    "\n",
    "** Answer the following questions **"
   ]
  },
  {
   "cell_type": "markdown",
   "metadata": {},
   "source": [
    "## Strings"
   ]
  },
  {
   "cell_type": "markdown",
   "metadata": {},
   "source": [
    "Given the string 'hello' give an index command that returns 'e'. Enter your code in the cell below:"
   ]
  },
  {
   "cell_type": "code",
   "execution_count": 1,
   "metadata": {},
   "outputs": [
    {
     "name": "stdout",
     "output_type": "stream",
     "text": [
      "e\n"
     ]
    }
   ],
   "source": [
    "s = 'hello'\n",
    "# Print out 'e' using indexing\n",
    "print(s[1])"
   ]
  },
  {
   "cell_type": "markdown",
   "metadata": {},
   "source": [
    "Reverse the string 'hello' using slicing:"
   ]
  },
  {
   "cell_type": "code",
   "execution_count": 16,
   "metadata": {},
   "outputs": [
    {
     "name": "stdout",
     "output_type": "stream",
     "text": [
      "olleh\n"
     ]
    }
   ],
   "source": [
    "s ='hello'\n",
    "# Reverse the string using slicing\n",
    "print(s[-1:-6:-1])"
   ]
  },
  {
   "cell_type": "markdown",
   "metadata": {},
   "source": [
    "Given the string hello, give two methods of producing the letter 'o' using indexing."
   ]
  },
  {
   "cell_type": "code",
   "execution_count": 17,
   "metadata": {},
   "outputs": [
    {
     "name": "stdout",
     "output_type": "stream",
     "text": [
      "o\n"
     ]
    }
   ],
   "source": [
    "s ='hello'\n",
    "# Print out the 'o'\n",
    "\n",
    "# Method 1:\n",
    "print(s[4])\n"
   ]
  },
  {
   "cell_type": "code",
   "execution_count": 18,
   "metadata": {},
   "outputs": [
    {
     "name": "stdout",
     "output_type": "stream",
     "text": [
      "o\n"
     ]
    }
   ],
   "source": [
    "# Method 2:\n",
    "print(s[-1])"
   ]
  },
  {
   "cell_type": "markdown",
   "metadata": {},
   "source": [
    "## Lists"
   ]
  },
  {
   "cell_type": "markdown",
   "metadata": {},
   "source": [
    "Build this list [0,0,0] two separate ways."
   ]
  },
  {
   "cell_type": "code",
   "execution_count": 31,
   "metadata": {},
   "outputs": [
    {
     "name": "stdout",
     "output_type": "stream",
     "text": [
      "[0, 0, 0]\n"
     ]
    }
   ],
   "source": [
    "# Method 1:\n",
    "MyList = [0,0,0]\n",
    "print(MyList)"
   ]
  },
  {
   "cell_type": "code",
   "execution_count": 40,
   "metadata": {},
   "outputs": [
    {
     "name": "stdout",
     "output_type": "stream",
     "text": [
      "[0, 0, 0]\n"
     ]
    }
   ],
   "source": [
    "# Method 2:\n",
    "\n",
    "MyData = 0,0,0\n",
    "MyList = list(MyData)\n",
    "\n",
    "print(MyList)"
   ]
  },
  {
   "cell_type": "markdown",
   "metadata": {},
   "source": [
    "Reassign 'hello' in this nested list to say 'goodbye' instead:"
   ]
  },
  {
   "cell_type": "code",
   "execution_count": 49,
   "metadata": {},
   "outputs": [
    {
     "name": "stdout",
     "output_type": "stream",
     "text": [
      "[1, 2, [3, 4, 'goodbye']]\n"
     ]
    }
   ],
   "source": [
    "list3 = [1,2,[3,4,'hello']]\n",
    "\n",
    "list3[2][2] = 'goodbye'\n",
    "print(list3)\n"
   ]
  },
  {
   "cell_type": "markdown",
   "metadata": {},
   "source": [
    "Sort the list below:"
   ]
  },
  {
   "cell_type": "code",
   "execution_count": 36,
   "metadata": {},
   "outputs": [
    {
     "name": "stdout",
     "output_type": "stream",
     "text": [
      "[1, 3, 4, 5, 6]\n"
     ]
    }
   ],
   "source": [
    "list4 = [5,3,4,6,1]\n",
    "\n",
    "list4.sort()\n",
    "print(list4)\n"
   ]
  },
  {
   "cell_type": "markdown",
   "metadata": {},
   "source": [
    "## Dictionaries"
   ]
  },
  {
   "cell_type": "markdown",
   "metadata": {},
   "source": [
    "Using keys and indexing, grab the 'hello' from the following dictionaries:"
   ]
  },
  {
   "cell_type": "code",
   "execution_count": 50,
   "metadata": {},
   "outputs": [
    {
     "data": {
      "text/plain": [
       "'hello'"
      ]
     },
     "execution_count": 50,
     "metadata": {},
     "output_type": "execute_result"
    }
   ],
   "source": [
    "d = {'simple_key':'hello'}\n",
    "# Grab 'hello'\n",
    "\n",
    "d.get('simple_key')\n"
   ]
  },
  {
   "cell_type": "code",
   "execution_count": 115,
   "metadata": {},
   "outputs": [
    {
     "name": "stdout",
     "output_type": "stream",
     "text": [
      "hello\n"
     ]
    }
   ],
   "source": [
    "d = {'k1':{'k2':'hello'}}\n",
    "# Grab 'hello'\n",
    "\n",
    "d1 = d.get('k1')\n",
    "\n",
    "value = d1.get('k2')\n",
    "\n",
    "print(value)"
   ]
  },
  {
   "cell_type": "code",
   "execution_count": 69,
   "metadata": {},
   "outputs": [
    {
     "name": "stdout",
     "output_type": "stream",
     "text": [
      "hello\n"
     ]
    }
   ],
   "source": [
    "d = {'k1':[{'nest_key':['this is deep',['hello']]}]}\n",
    "\n",
    "#Grab hello\n",
    "\n",
    "#on 5 steps\n",
    "# first index dict with key [k1]\n",
    "# then index list with index [0]\n",
    "# then index dict with key ['nest_key']\n",
    "# then index list with index [1]\n",
    "# finally index list with index [0]\n",
    "\n",
    "print(d['k1'][0]['nest_key'][1][0])"
   ]
  },
  {
   "cell_type": "code",
   "execution_count": 88,
   "metadata": {},
   "outputs": [
    {
     "name": "stdout",
     "output_type": "stream",
     "text": [
      "[1, 2, {'k2': ['this is tricky', {'tough': [1, 2, ['hello']]}]}]\n"
     ]
    }
   ],
   "source": [
    "d = {'k1':[1,2,{'k2':['this is tricky',{'tough':[1,2,['hello']]}]}]}\n",
    "#Grab hello\n",
    "\n",
    "# first index dict d with key ['k1']\n",
    "str1 = d.get('k1')\n",
    "print(str1)"
   ]
  },
  {
   "cell_type": "code",
   "execution_count": 89,
   "metadata": {},
   "outputs": [
    {
     "name": "stdout",
     "output_type": "stream",
     "text": [
      "{'k2': ['this is tricky', {'tough': [1, 2, ['hello']]}]}\n"
     ]
    }
   ],
   "source": [
    "# then index list str1 with index [2]\n",
    "d1 = str1[2]\n",
    "print(d1)"
   ]
  },
  {
   "cell_type": "code",
   "execution_count": 90,
   "metadata": {},
   "outputs": [
    {
     "name": "stdout",
     "output_type": "stream",
     "text": [
      "['this is tricky', {'tough': [1, 2, ['hello']]}]\n"
     ]
    }
   ],
   "source": [
    "# then index dict d1 with key ['k2']\n",
    "str2 = d1.get('k2')\n",
    "print(str2)"
   ]
  },
  {
   "cell_type": "code",
   "execution_count": 91,
   "metadata": {},
   "outputs": [
    {
     "name": "stdout",
     "output_type": "stream",
     "text": [
      "{'tough': [1, 2, ['hello']]}\n"
     ]
    }
   ],
   "source": [
    "# then index list str2 with index [1]\n",
    "d2 = str2[1]\n",
    "print(d2)"
   ]
  },
  {
   "cell_type": "code",
   "execution_count": 92,
   "metadata": {},
   "outputs": [
    {
     "name": "stdout",
     "output_type": "stream",
     "text": [
      "[1, 2, ['hello']]\n",
      "['hello']\n",
      "hello\n"
     ]
    }
   ],
   "source": [
    "# then index dict d2 with key ['tough']\n",
    "str3 = d2.get('tough')\n",
    "print(str3)\n",
    "\n",
    "# then index list str3 with index [2]\n",
    "str4 = str3[2]\n",
    "print(str4)\n",
    "\n",
    "# finally index list str4 with index [0]\n",
    "str5 = str4[0]\n",
    "print(str5)"
   ]
  },
  {
   "cell_type": "markdown",
   "metadata": {},
   "source": [
    "** Given the variables:**\n",
    "\n",
    "    planet = \"Earth\"\n",
    "    diameter = 12742\n",
    "\n",
    "** Use .format() to print the following string: **\n",
    "\n",
    "    The diameter of Earth is 12742 kilometers."
   ]
  },
  {
   "cell_type": "code",
   "execution_count": 95,
   "metadata": {},
   "outputs": [
    {
     "name": "stdout",
     "output_type": "stream",
     "text": [
      "The diameter of Earth is 12742 kilometers.\n"
     ]
    }
   ],
   "source": [
    "planet = \"Earth\"\n",
    "diameter = 12742\n",
    "\n",
    "print('The diameter of {} is {} kilometers.'.format(planet,diameter))\n"
   ]
  },
  {
   "cell_type": "markdown",
   "metadata": {},
   "source": [
    "** Given this nested list, use indexing to grab the word \"hello\" **"
   ]
  },
  {
   "cell_type": "code",
   "execution_count": 97,
   "metadata": {},
   "outputs": [],
   "source": [
    "lst = [1,2,[3,4],[5,[100,200,['hello']],23,11],1,7]"
   ]
  },
  {
   "cell_type": "code",
   "execution_count": 98,
   "metadata": {},
   "outputs": [
    {
     "name": "stdout",
     "output_type": "stream",
     "text": [
      "hello\n"
     ]
    }
   ],
   "source": [
    "print(lst[3][1][2][0])"
   ]
  },
  {
   "cell_type": "markdown",
   "metadata": {},
   "source": [
    "** Given this nested dictionary grab the word \"hello\". **"
   ]
  },
  {
   "cell_type": "code",
   "execution_count": 21,
   "metadata": {
    "collapsed": true
   },
   "outputs": [],
   "source": [
    "d = {'k1':[1,2,3,{'tricky':['oh','man','inception',{'target':[1,2,3,'hello']}]}]}"
   ]
  },
  {
   "cell_type": "code",
   "execution_count": 110,
   "metadata": {},
   "outputs": [
    {
     "name": "stdout",
     "output_type": "stream",
     "text": [
      "hello\n"
     ]
    }
   ],
   "source": [
    "# first index dict d with key ['k1']\n",
    "lst1 = d.get('k1')\n",
    "# then index list lst1 with index [2]\n",
    "d1 = lst1[2]\n",
    "# then index dict d1 with key ['k1']\n",
    "lst2 = d1.get('k2')\n",
    "# then index list lst2 with index [1]\n",
    "d2 = lst2[1]\n",
    "# then index dict d2 with key ['tough']\n",
    "lst3 = d2.get('tough')\n",
    "# then index list lst3 with index [2]\n",
    "lst4 = lst3[2]\n",
    "# finally index list lst4 with index [0]\n",
    "final = lst4[0]\n",
    "print(final)"
   ]
  },
  {
   "cell_type": "markdown",
   "metadata": {},
   "source": [
    "### Write a Python program to swap two variables.\n"
   ]
  },
  {
   "cell_type": "code",
   "execution_count": 113,
   "metadata": {},
   "outputs": [
    {
     "name": "stdout",
     "output_type": "stream",
     "text": [
      "First variable is : 1 , and the Second variable is : 2\n",
      "-------After swapping-------\n",
      "First variable has become : 2 , and the Second variable has become : 1\n"
     ]
    }
   ],
   "source": [
    "Fst = 1\n",
    "Scd = 2\n",
    "temp= 0\n",
    "\n",
    "print(f'First variable is : {Fst} , and the Second variable is : {Scd}')\n",
    "\n",
    "temp = Fst\n",
    "Fst = Scd\n",
    "Scd = temp\n",
    "\n",
    "print('-------After swapping-------')\n",
    "print(f'First variable has become : {Fst} , and the Second variable has become : {Scd}')"
   ]
  },
  {
   "cell_type": "markdown",
   "metadata": {},
   "source": [
    "## Thanks"
   ]
  }
 ],
 "metadata": {
  "anaconda-cloud": {},
  "kernelspec": {
   "display_name": "Python 3 (ipykernel)",
   "language": "python",
   "name": "python3"
  },
  "language_info": {
   "codemirror_mode": {
    "name": "ipython",
    "version": 3
   },
   "file_extension": ".py",
   "mimetype": "text/x-python",
   "name": "python",
   "nbconvert_exporter": "python",
   "pygments_lexer": "ipython3",
   "version": "3.9.12"
  }
 },
 "nbformat": 4,
 "nbformat_minor": 1
}
